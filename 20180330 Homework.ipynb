{
 "cells": [
  {
   "cell_type": "code",
   "execution_count": 1,
   "metadata": {
    "collapsed": true
   },
   "outputs": [],
   "source": [
    "from sympy import *\n",
    "from random import *"
   ]
  },
  {
   "cell_type": "code",
   "execution_count": 2,
   "metadata": {
    "collapsed": true
   },
   "outputs": [],
   "source": [
    "# Function In\n",
    "def In(i,j):\n",
    "    if i==j:\n",
    "        return 1\n",
    "    else:\n",
    "        return 0"
   ]
  },
  {
   "cell_type": "code",
   "execution_count": 3,
   "metadata": {
    "collapsed": true
   },
   "outputs": [],
   "source": [
    "# Matrix n*n\n",
    "n = 3"
   ]
  },
  {
   "cell_type": "code",
   "execution_count": 4,
   "metadata": {
    "collapsed": true
   },
   "outputs": [],
   "source": [
    "# In\n",
    "In1 = Matrix(n,n,In)\n",
    "In2 = eye(n)"
   ]
  },
  {
   "cell_type": "code",
   "execution_count": 5,
   "metadata": {
    "collapsed": true
   },
   "outputs": [],
   "source": [
    "# Range of c in P2 and P3\n",
    "c_range = 100\n",
    "\n",
    "# Function P\n",
    "def P(x):\n",
    "    if x==1:\n",
    "        # Change a and b row\n",
    "        a = randint(0,n-1)\n",
    "        b = (a+randint(1,n-1))%n\n",
    "        In = In1[:,:]\n",
    "        In[a,:] = In1[b,:]\n",
    "        In[b,:] = In1[a,:]\n",
    "        return In\n",
    "    elif x==2:\n",
    "        # Multiply row a by c\n",
    "        a = randint(0,n-1)\n",
    "        c = randint(2,c_range)\n",
    "        In = In1[:,:]\n",
    "        In[a,:] = c*In1[a,:]\n",
    "        return In\n",
    "    elif x==3:\n",
    "        # Multiply row b by c and add it to row a\n",
    "        a = randint(0,n-1)\n",
    "        b = (a+randint(1,n-1))%n\n",
    "        c = randint(2,c_range)\n",
    "        In = In1[:,:]\n",
    "        In[a,:] = c*In1[b,:] + In1[a,:]\n",
    "        return In"
   ]
  },
  {
   "cell_type": "code",
   "execution_count": 6,
   "metadata": {
    "collapsed": true
   },
   "outputs": [],
   "source": [
    "P1 = P(1)\n",
    "P2 = P(2)\n",
    "P3 = P(3)"
   ]
  },
  {
   "cell_type": "code",
   "execution_count": 7,
   "metadata": {},
   "outputs": [
    {
     "data": {
      "text/plain": [
       "Matrix([\n",
       "[1, 0,  0],\n",
       "[0, 1, 77],\n",
       "[0, 0,  1]])"
      ]
     },
     "execution_count": 7,
     "metadata": {},
     "output_type": "execute_result"
    }
   ],
   "source": [
    "P1\n",
    "P2\n",
    "P3"
   ]
  },
  {
   "cell_type": "code",
   "execution_count": 8,
   "metadata": {
    "collapsed": true
   },
   "outputs": [],
   "source": [
    "# The number of E may get from 3 to times_range\n",
    "times_range = 10\n",
    "\n",
    "# List E store matrix E\n",
    "E = list()\n",
    "\n",
    "# Get random list E\n",
    "times = randint(3,times_range)\n",
    "for i in range(times):\n",
    "    p_num = randint(1,3)\n",
    "    E.append(P(p_num))\n",
    "    \n",
    "# Find matrix A\n",
    "A = E[0].inv()\n",
    "for i in range(1,times):\n",
    "    A = A * E[i].inv()"
   ]
  },
  {
   "cell_type": "code",
   "execution_count": 9,
   "metadata": {},
   "outputs": [
    {
     "data": {
      "text/plain": [
       "Matrix([\n",
       "[   0, 1, -188],\n",
       "[   0, 0, 1/31],\n",
       "[1/97, 0,    0]])"
      ]
     },
     "execution_count": 9,
     "metadata": {},
     "output_type": "execute_result"
    }
   ],
   "source": [
    "A"
   ]
  },
  {
   "cell_type": "code",
   "execution_count": 10,
   "metadata": {
    "collapsed": true
   },
   "outputs": [],
   "source": [
    "# Reverse list E\n",
    "E = E[::-1]\n",
    "\n",
    "# Get matrix A_1\n",
    "A_1 = E[0]\n",
    "for i in range(1,times):\n",
    "    A_1 = A_1 * E[i]"
   ]
  },
  {
   "cell_type": "code",
   "execution_count": 11,
   "metadata": {},
   "outputs": [
    {
     "data": {
      "text/plain": [
       "Matrix([\n",
       "[0,    0, 97],\n",
       "[1, 5828,  0],\n",
       "[0,   31,  0]])"
      ]
     },
     "execution_count": 11,
     "metadata": {},
     "output_type": "execute_result"
    }
   ],
   "source": [
    "A_1"
   ]
  },
  {
   "cell_type": "code",
   "execution_count": 12,
   "metadata": {},
   "outputs": [
    {
     "data": {
      "text/plain": [
       "Matrix([\n",
       "[1, 0, 0],\n",
       "[0, 1, 0],\n",
       "[0, 0, 1]])"
      ]
     },
     "execution_count": 12,
     "metadata": {},
     "output_type": "execute_result"
    }
   ],
   "source": [
    "# A * A_1 = In\n",
    "A*A_1 "
   ]
  }
 ],
 "metadata": {
  "kernelspec": {
   "display_name": "Python 3",
   "language": "python",
   "name": "python3"
  },
  "language_info": {
   "codemirror_mode": {
    "name": "ipython",
    "version": 3
   },
   "file_extension": ".py",
   "mimetype": "text/x-python",
   "name": "python",
   "nbconvert_exporter": "python",
   "pygments_lexer": "ipython3",
   "version": "3.6.3"
  }
 },
 "nbformat": 4,
 "nbformat_minor": 2
}
