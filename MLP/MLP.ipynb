{
 "cells": [
  {
   "cell_type": "markdown",
   "metadata": {},
   "source": [
    "# Multilayer Perceptron 多層感知器"
   ]
  },
  {
   "cell_type": "markdown",
   "metadata": {},
   "source": [
    "#### 使用 Scikit Learn 的 MLPClassifier 來辨識數字"
   ]
  },
  {
   "cell_type": "markdown",
   "metadata": {},
   "source": [
    "### 程式碼參考資料\n",
    "* [Ashing00/Multilayer-Perceptron](https://github.com/Ashing00/Multilayer-Perceptron/blob/master/MLP.py)\n",
    "* [使用sklearn中的神经网络模块MLPClassifier处理分类问题](https://blog.csdn.net/u011311291/article/details/78743393)"
   ]
  },
  {
   "cell_type": "markdown",
   "metadata": {},
   "source": [
    "### Data\n",
    "* [MNIST handwritten digit database, Yann LeCun, Corinna Cortes and Chris Burges](http://yann.lecun.com/exdb/mnist/)"
   ]
  },
  {
   "cell_type": "markdown",
   "metadata": {},
   "source": [
    "### 讀入標準套件"
   ]
  },
  {
   "cell_type": "code",
   "execution_count": 1,
   "metadata": {
    "collapsed": true
   },
   "outputs": [],
   "source": [
    "%matplotlib inline\n",
    "from sklearn.neural_network import MLPClassifier\n",
    "import numpy as np\n",
    "import os\n",
    "import struct\n",
    "import matplotlib.pyplot as plt\n",
    "import cv2"
   ]
  },
  {
   "cell_type": "markdown",
   "metadata": {},
   "source": [
    "### 讀取資料的函數"
   ]
  },
  {
   "cell_type": "code",
   "execution_count": 2,
   "metadata": {
    "collapsed": true
   },
   "outputs": [],
   "source": [
    "def load_data(kind='train'):\n",
    "    if kind=='train':\n",
    "        labels_path=os.path.join('train-labels-idx1-ubyte')        \n",
    "        images_path=os.path.join('train-images-idx3-ubyte')\n",
    "    else:\n",
    "        labels_path=os.path.join('t10k-labels-idx1-ubyte')        \n",
    "        images_path=os.path.join('t10k-images-idx3-ubyte')\n",
    "    \n",
    "    with open(labels_path, 'rb') as lbpath:\n",
    "        magic, n = struct.unpack('>II',\n",
    "                                 lbpath.read(8))\n",
    "        labels = np.fromfile(lbpath,\n",
    "                             dtype=np.uint8)\n",
    "\n",
    "    with open(images_path, 'rb') as imgpath:\n",
    "        magic, num, rows, cols = struct.unpack(\">IIII\",\n",
    "                                               imgpath.read(16))\n",
    "        images = np.fromfile(imgpath,\n",
    "                             dtype=np.uint8).reshape(len(labels), 784)\n",
    "\n",
    "    return images, labels"
   ]
  },
  {
   "cell_type": "markdown",
   "metadata": {},
   "source": [
    "### 讀取資料"
   ]
  },
  {
   "cell_type": "code",
   "execution_count": 3,
   "metadata": {
    "collapsed": true
   },
   "outputs": [],
   "source": [
    "# 讀取 Training Data\n",
    "X_train, y_train = load_data(kind='train')\n",
    "# 讀取 Testing Data\n",
    "X_test, y_test = load_data(kind='t10k')"
   ]
  },
  {
   "cell_type": "markdown",
   "metadata": {},
   "source": [
    "### 顯示 Training Data"
   ]
  },
  {
   "cell_type": "code",
   "execution_count": 4,
   "metadata": {},
   "outputs": [
    {
     "data": {
      "image/png": "[encoded data removed]",
      "text/plain": [
       "<matplotlib.figure.Figure at 0x7f800e458b70>"
      ]
     },
     "metadata": {},
     "output_type": "display_data"
    }
   ],
   "source": [
    "# X_train2 為 60000*28*28 的矩陣\n",
    "X_train2=X_train.copy()\n",
    "X_train2=X_train2.reshape(60000,28,28)\n",
    "\n",
    "# 顯示前 100 筆 Training Data 圖形\n",
    "for i in range(100):    \n",
    "    plt.subplot(10,10,i+1),plt.imshow(X_train2[i],cmap = 'gray')\n",
    "    plt.axis('off')\n",
    "plt.show()"
   ]
  },
  {
   "cell_type": "markdown",
   "metadata": {},
   "source": [
    "### 設置神經網路模型參數"
   ]
  },
  {
   "cell_type": "code",
   "execution_count": 5,
   "metadata": {
    "collapsed": true
   },
   "outputs": [],
   "source": [
    "# hidden_layer_sizes(50,50) 代表有兩層隱藏層，第一層50個神經元，第二層50個神經元\n",
    "mlp = MLPClassifier(solver='sgd', activation='relu',alpha=1e-4,\n",
    "                    hidden_layer_sizes=(50,50), random_state=1,\n",
    "                    max_iter=10,verbose=10,learning_rate_init=.1)"
   ]
  },
  {
   "cell_type": "markdown",
   "metadata": {},
   "source": [
    "### 標準化 Training Data"
   ]
  },
  {
   "cell_type": "code",
   "execution_count": 6,
   "metadata": {
    "collapsed": true
   },
   "outputs": [],
   "source": [
    "# X_train3 為 60000*784 的陣列\n",
    "X_train3 = X_train.reshape(60000,28*28)\n",
    "# 將訓練數據標準化\n",
    "X_train3 = X_train3/255.\n",
    "\n",
    "# Training Data 的第 1 筆數據\n",
    "# X_train3[0]"
   ]
  },
  {
   "cell_type": "markdown",
   "metadata": {},
   "source": [
    "### 訓練模型"
   ]
  },
  {
   "cell_type": "code",
   "execution_count": 7,
   "metadata": {},
   "outputs": [
    {
     "name": "stdout",
     "output_type": "stream",
     "text": [
      "Iteration 1, loss = 0.31433496\n",
      "Iteration 2, loss = 0.13096526\n",
      "Iteration 3, loss = 0.09746443\n",
      "Iteration 4, loss = 0.08289663\n",
      "Iteration 5, loss = 0.06756179\n",
      "Iteration 6, loss = 0.06050956\n",
      "Iteration 7, loss = 0.05404734\n",
      "Iteration 8, loss = 0.04829666\n",
      "Iteration 9, loss = 0.04256343\n",
      "Iteration 10, loss = 0.04180814\n"
     ]
    },
    {
     "name": "stderr",
     "output_type": "stream",
     "text": [
      "/opt/anaconda/lib/python3.6/site-packages/sklearn/neural_network/multilayer_perceptron.py:564: ConvergenceWarning: Stochastic Optimizer: Maximum iterations (10) reached and the optimization hasn't converged yet.\n",
      "  % self.max_iter, ConvergenceWarning)\n"
     ]
    },
    {
     "data": {
      "text/plain": [
       "MLPClassifier(activation='relu', alpha=0.0001, batch_size='auto', beta_1=0.9,\n",
       "       beta_2=0.999, early_stopping=False, epsilon=1e-08,\n",
       "       hidden_layer_sizes=(50, 50), learning_rate='constant',\n",
       "       learning_rate_init=0.1, max_iter=10, momentum=0.9,\n",
       "       nesterovs_momentum=True, power_t=0.5, random_state=1, shuffle=True,\n",
       "       solver='sgd', tol=0.0001, validation_fraction=0.1, verbose=10,\n",
       "       warm_start=False)"
      ]
     },
     "execution_count": 7,
     "metadata": {},
     "output_type": "execute_result"
    }
   ],
   "source": [
    "# 訓練模型\n",
    "mlp.fit(X_train3, y_train)"
   ]
  },
  {
   "cell_type": "markdown",
   "metadata": {},
   "source": [
    "### 顯示訓練結果"
   ]
  },
  {
   "cell_type": "code",
   "execution_count": 8,
   "metadata": {},
   "outputs": [
    {
     "name": "stdout",
     "output_type": "stream",
     "text": [
      "Training Set Accuracy: 0.988583\n",
      "Test Set Accuracy: 0.963100\n",
      "4\n",
      "softmax\n"
     ]
    }
   ],
   "source": [
    "print (\"Training Set Accuracy: %f\"% mlp.score(X_train3,y_train))\n",
    "print (\"Test Set Accuracy: %f\"% mlp.score(X_test,y_test))\n",
    "print (mlp.n_layers_) #輸入層+隱藏層+輸出層\n",
    "print (mlp.out_activation_)"
   ]
  },
  {
   "cell_type": "code",
   "execution_count": 9,
   "metadata": {},
   "outputs": [
    {
     "data": {
      "image/png": "[encoded data removed]",
      "text/plain": [
       "<matplotlib.figure.Figure at 0x7f7ffff4df60>"
      ]
     },
     "metadata": {},
     "output_type": "display_data"
    }
   ],
   "source": [
    "# 第 1-5 筆 Training Data 測試\n",
    "train_res = mlp.predict(X_train3[:5])\n",
    "# 顯示圖片與預測值\n",
    "for i in range(5):\n",
    "    plt.subplot(2,5,i+1),plt.imshow(X_train2[i],cmap = 'gray')\n",
    "    plt.title(train_res[i],fontsize=40), plt.xticks([]), plt.yticks([])"
   ]
  },
  {
   "cell_type": "markdown",
   "metadata": {},
   "source": [
    "### 預測自己輸入的手寫數字圖"
   ]
  },
  {
   "cell_type": "code",
   "execution_count": 10,
   "metadata": {},
   "outputs": [
    {
     "data": {
      "image/png": "[encoded data removed]",
      "text/plain": [
       "<matplotlib.figure.Figure at 0x7f7fe8370518>"
      ]
     },
     "metadata": {},
     "output_type": "display_data"
    }
   ],
   "source": [
    "# num:有幾張圖片\n",
    "num = 2\n",
    "\n",
    "My_X =np.zeros((num,28*28), dtype=int)\n",
    "img_num=[0]*num\n",
    "img_res=[0]*num\n",
    "#輸入手寫數字圖檔28x28=784 pixel，\n",
    "Input_Numer=[0]*num\n",
    "# 圖片檔名\n",
    "Input_Numer[0]=\"0.jpg\"\n",
    "Input_Numer[1]=\"1.jpg\"\n",
    "# Input_Numer[2]=\"2.jpg\"\n",
    "# Input_Numer[3]=\"3.jpg\"\n",
    "# Input_Numer[4]=\"4.jpg\"\n",
    "\n",
    "# 讀取圖片並轉換成陣列\n",
    "for i in range(num):  #read 20 digits picture\n",
    "    img = cv2.imread(Input_Numer[i],0)    #Gray\n",
    "    img_num[i]=img.copy()\n",
    "    img=img.reshape(My_X.shape[1])\n",
    "    My_X[i] =img.copy()\n",
    "    \n",
    "My_X = My_X/255.\n",
    "img_res = mlp.predict(My_X)\n",
    "\n",
    "# 顯示圖片與預測值\n",
    "for i in range(num):\n",
    "    plt.subplot(2,5,i+1),plt.imshow(img_num[i],cmap = 'gray')\n",
    "    plt.title(img_res[i],fontsize=40), plt.xticks([]), plt.yticks([])"
   ]
  }
 ],
 "metadata": {
  "kernelspec": {
   "display_name": "Python 3",
   "language": "python",
   "name": "python3"
  },
  "language_info": {
   "codemirror_mode": {
    "name": "ipython",
    "version": 3
   },
   "file_extension": ".py",
   "mimetype": "text/x-python",
   "name": "python",
   "nbconvert_exporter": "python",
   "pygments_lexer": "ipython3",
   "version": "3.6.3"
  }
 },
 "nbformat": 4,
 "nbformat_minor": 2
}
